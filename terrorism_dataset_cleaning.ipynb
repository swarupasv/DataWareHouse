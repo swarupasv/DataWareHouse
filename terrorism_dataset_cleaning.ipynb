{
 "cells": [
  {
   "cell_type": "code",
   "execution_count": 74,
   "metadata": {
    "collapsed": true
   },
   "outputs": [],
   "source": [
    "import pandas as pd\n",
    "import argparse\n",
    "import numpy as np"
   ]
  },
  {
   "cell_type": "code",
   "execution_count": null,
   "metadata": {},
   "outputs": [],
   "source": [
    "df=pd.read_csv(\"C:/Users/Swarupa/Desktop/Terrorism.csv\")"
   ]
  },
  {
   "cell_type": "code",
   "execution_count": null,
   "metadata": {},
   "outputs": [],
   "source": [
    "df.head()"
   ]
  },
  {
   "cell_type": "code",
   "execution_count": null,
   "metadata": {
    "collapsed": true
   },
   "outputs": [],
   "source": [
    "df = df[df.imonth != 0]\n",
    "df = df[df.iday != 0]"
   ]
  },
  {
   "cell_type": "code",
   "execution_count": null,
   "metadata": {
    "collapsed": true
   },
   "outputs": [],
   "source": [
    "del df[\"approxdate\"]"
   ]
  },
  {
   "cell_type": "code",
   "execution_count": null,
   "metadata": {
    "collapsed": true
   },
   "outputs": [],
   "source": [
    "df['extended'].replace(0, 'No',inplace=True)\n",
    "df['extended'].replace(1, 'Yes',inplace=True)"
   ]
  },
  {
   "cell_type": "code",
   "execution_count": null,
   "metadata": {
    "collapsed": true
   },
   "outputs": [],
   "source": [
    "df=df.fillna(\"None\")"
   ]
  },
  {
   "cell_type": "code",
   "execution_count": null,
   "metadata": {},
   "outputs": [],
   "source": [
    "df.head()"
   ]
  },
  {
   "cell_type": "code",
   "execution_count": null,
   "metadata": {
    "collapsed": true
   },
   "outputs": [],
   "source": [
    "df['crit1'].replace(0, 'No',inplace=True)\n",
    "df['crit1'].replace(1, 'Yes',inplace=True)\n",
    "df['crit2'].replace(0, 'No',inplace=True)\n",
    "df['crit2'].replace(1, 'Yes',inplace=True)\n",
    "df['crit3'].replace(0, 'No',inplace=True)\n",
    "df['crit3'].replace(1, 'Yes',inplace=True)"
   ]
  },
  {
   "cell_type": "code",
   "execution_count": null,
   "metadata": {
    "collapsed": true
   },
   "outputs": [],
   "source": [
    "df['doubtterr'].replace(0, 'No',inplace=True)\n",
    "df['doubtterr'].replace(1, 'Yes',inplace=True)\n",
    "df['doubtterr'].replace(-9, 'Unknown',inplace=True)"
   ]
  },
  {
   "cell_type": "code",
   "execution_count": null,
   "metadata": {
    "collapsed": true
   },
   "outputs": [],
   "source": [
    "df['multiple'].replace(0, 'No',inplace=True)\n",
    "df['multiple'].replace(1, 'Yes',inplace=True)"
   ]
  },
  {
   "cell_type": "code",
   "execution_count": null,
   "metadata": {
    "collapsed": true
   },
   "outputs": [],
   "source": [
    "df['vicinity'].replace(0, 'No',inplace=True)\n",
    "df['vicinity'].replace(1, 'Yes',inplace=True)"
   ]
  },
  {
   "cell_type": "code",
   "execution_count": null,
   "metadata": {
    "collapsed": true
   },
   "outputs": [],
   "source": [
    "df['success'].replace(0, 'No',inplace=True)\n",
    "df['success'].replace(1, 'Yes',inplace=True)"
   ]
  },
  {
   "cell_type": "code",
   "execution_count": null,
   "metadata": {
    "collapsed": true
   },
   "outputs": [],
   "source": [
    "df['suicide'].replace(0, 'No',inplace=True)\n",
    "df['suicide'].replace(1, 'Yes',inplace=True)"
   ]
  },
  {
   "cell_type": "code",
   "execution_count": null,
   "metadata": {
    "collapsed": true
   },
   "outputs": [],
   "source": [
    "df['guncertain1'].replace(0, 'No',inplace=True)\n",
    "df['guncertain1'].replace(1, 'Yes',inplace=True)\n",
    "df['guncertain2'].replace(0, 'No',inplace=True)\n",
    "df['guncertain2'].replace(1, 'Yes',inplace=True)\n",
    "df['guncertain3'].replace(0, 'No',inplace=True)\n",
    "df['guncertain3'].replace(1, 'Yes',inplace=True)"
   ]
  },
  {
   "cell_type": "code",
   "execution_count": null,
   "metadata": {
    "collapsed": true
   },
   "outputs": [],
   "source": [
    "df['claimed'].replace(0, 'No',inplace=True)\n",
    "df['claimed'].replace(1, 'Yes',inplace=True)"
   ]
  },
  {
   "cell_type": "code",
   "execution_count": null,
   "metadata": {
    "collapsed": true
   },
   "outputs": [],
   "source": [
    "df['compclaim'].replace(0, 'No',inplace=True)\n",
    "df['compclaim'].replace(1, 'Yes',inplace=True)\n",
    "df['compclaim'].replace(-9, 'Unknown',inplace=True)"
   ]
  },
  {
   "cell_type": "code",
   "execution_count": null,
   "metadata": {
    "collapsed": true
   },
   "outputs": [],
   "source": [
    "df['claim2'].replace(0, 'No',inplace=True)\n",
    "df['claim2'].replace(1, 'Yes',inplace=True)"
   ]
  },
  {
   "cell_type": "code",
   "execution_count": null,
   "metadata": {
    "collapsed": true
   },
   "outputs": [],
   "source": [
    "df['claimmode2'].replace(1, 'Letter',inplace=True)\n",
    "df['claimmode2'].replace(2, 'Call(post-incident)',inplace=True)\n",
    "df['claimmode2'].replace(3, 'Call(pre-incident)',inplace=True)\n",
    "df['claimmode2'].replace(4, 'E-mail',inplace=True)\n",
    "df['claimmode2'].replace(5, 'Note left at scene',inplace=True)\n",
    "df['claimmode2'].replace(6, 'Video',inplace=True)\n",
    "df['claimmode2'].replace(7, 'Posted to website, blog, social media',inplace=True)\n",
    "df['claimmode2'].replace(8, 'Personal claim',inplace=True)\n",
    "df['claimmode2'].replace(9, 'Other',inplace=True)\n",
    "df['claimmode2'].replace(10, 'Unknown',inplace=True)"
   ]
  },
  {
   "cell_type": "code",
   "execution_count": null,
   "metadata": {
    "collapsed": true
   },
   "outputs": [],
   "source": [
    "df['claim3'].replace(0, 'No',inplace=True)\n",
    "df['claim3'].replace(1, 'Yes',inplace=True)"
   ]
  },
  {
   "cell_type": "code",
   "execution_count": null,
   "metadata": {
    "collapsed": true
   },
   "outputs": [],
   "source": [
    "df['claimmode3'].replace(1, 'Letter',inplace=True)\n",
    "df['claimmode3'].replace(2, 'Call(post-incident)',inplace=True)\n",
    "df['claimmode3'].replace(3, 'Call(pre-incident)',inplace=True)\n",
    "df['claimmode3'].replace(4, 'E-mail',inplace=True)\n",
    "df['claimmode3'].replace(5, 'Note left at scene',inplace=True)\n",
    "df['claimmode3'].replace(6, 'Video',inplace=True)\n",
    "df['claimmode3'].replace(7, 'Posted to website, blog, social media',inplace=True)\n",
    "df['claimmode3'].replace(8, 'Personal claim',inplace=True)\n",
    "df['claimmode3'].replace(9, 'Other',inplace=True)\n",
    "df['claimmode3'].replace(10, 'Unknown',inplace=True)"
   ]
  },
  {
   "cell_type": "code",
   "execution_count": null,
   "metadata": {
    "collapsed": true
   },
   "outputs": [],
   "source": [
    "df['property'].replace(0, 'No',inplace=True)\n",
    "df['property'].replace(1, 'Yes',inplace=True)\n",
    "df['property'].replace(-9, 'Unknown',inplace=True)"
   ]
  },
  {
   "cell_type": "code",
   "execution_count": null,
   "metadata": {
    "collapsed": true
   },
   "outputs": [],
   "source": [
    "df['ishostkid'].replace(0, 'No',inplace=True)\n",
    "df['ishostkid'].replace(1, 'Yes',inplace=True)\n",
    "df['ishostkid'].replace(-9, 'Unknown',inplace=True)"
   ]
  },
  {
   "cell_type": "code",
   "execution_count": null,
   "metadata": {
    "collapsed": true
   },
   "outputs": [],
   "source": [
    "df['ransom'].replace(0, 'No',inplace=True)\n",
    "df['ransom'].replace(1, 'Yes',inplace=True)\n",
    "df['ransom'].replace(-9, 'Unknown',inplace=True)"
   ]
  },
  {
   "cell_type": "code",
   "execution_count": null,
   "metadata": {
    "collapsed": true
   },
   "outputs": [],
   "source": [
    "df['INT_LOG'].replace(0, 'No',inplace=True)\n",
    "df['INT_LOG'].replace(1, 'Yes',inplace=True)\n",
    "df['INT_LOG'].replace(-9, 'Unknown',inplace=True)"
   ]
  },
  {
   "cell_type": "code",
   "execution_count": null,
   "metadata": {
    "collapsed": true
   },
   "outputs": [],
   "source": [
    "df['INT_IDEO'].replace(0, 'No',inplace=True)\n",
    "df['INT_IDEO'].replace(1, 'Yes',inplace=True)\n",
    "df['INT_IDEO'].replace(-9, 'Unknown',inplace=True)"
   ]
  },
  {
   "cell_type": "code",
   "execution_count": null,
   "metadata": {
    "collapsed": true
   },
   "outputs": [],
   "source": [
    "df['INT_MISC'].replace(0, 'No',inplace=True)\n",
    "df['INT_MISC'].replace(1, 'Yes',inplace=True)\n",
    "df['INT_MISC'].replace(-9, 'Unknown',inplace=True)"
   ]
  },
  {
   "cell_type": "code",
   "execution_count": null,
   "metadata": {
    "collapsed": true
   },
   "outputs": [],
   "source": [
    "df['INT_ANY'].replace(0, 'No',inplace=True)\n",
    "df['INT_ANY'].replace(1, 'Yes',inplace=True)\n",
    "df['INT_ANY'].replace(-9, 'Unknown',inplace=True)"
   ]
  },
  {
   "cell_type": "code",
   "execution_count": null,
   "metadata": {
    "collapsed": true
   },
   "outputs": [],
   "source": [
    "del df[\"country\"]\n",
    "del df[\"claimmode\"]\n",
    "del df[\"propextent\"]\n",
    "del df[\"natlty3\"]\n",
    "del df[\"targsubtype3\"]\n",
    "del df[\"targtype3\"]\n",
    "del df[\"natlty2\"]\n",
    "del df[\"targsubtype2\"]\n",
    "del df[\"targtype2\"]\n",
    "del df[\"natlty1\"]\n",
    "del df[\"targsubtype1\"]\n",
    "del df[\"targtype1\"]\n",
    "del df[\"weapsubtype4\"]\n",
    "del df[\"weaptype4\"]\n",
    "del df[\"weapsubtype3\"]\n",
    "del df[\"weaptype3\"]\n",
    "del df[\"weapsubtype2\"]\n",
    "del df[\"weaptype2\"]\n",
    "del df[\"weapsubtype1\"]\n",
    "del df[\"weaptype1\"]\n",
    "del df[\"attacktype3\"]\n",
    "del df[\"attacktype2\"]\n",
    "del df[\"attacktype1\"]\n",
    "del df[\"region\"]\n",
    "del df[\"alternative\"]"
   ]
  },
  {
   "cell_type": "code",
   "execution_count": null,
   "metadata": {
    "collapsed": true
   },
   "outputs": [],
   "source": [
    "df[df.columns[53]].replace(\"None\", -99,inplace=True)\n",
    "df[df.columns[54]].replace(\"None\", -99,inplace=True)\n",
    "df[df.columns[74]].replace(\"None\", -99,inplace=True)\n",
    "df[df.columns[77]].replace(\"None\", -99,inplace=True)"
   ]
  },
  {
   "cell_type": "code",
   "execution_count": null,
   "metadata": {
    "collapsed": true
   },
   "outputs": [],
   "source": [
    "df.to_csv(\"Terrorism_cleaned.csv\", encoding='utf-8',index=False)"
   ]
  },
  {
   "cell_type": "code",
   "execution_count": null,
   "metadata": {
    "collapsed": true
   },
   "outputs": [],
   "source": [
    "df1=pd.read_csv(\"C:/Users/Swarupa/Desktop/Terrorism_cleaned.csv\")"
   ]
  },
  {
   "cell_type": "code",
   "execution_count": null,
   "metadata": {
    "scrolled": true
   },
   "outputs": [],
   "source": [
    "df1.head()"
   ]
  },
  {
   "cell_type": "code",
   "execution_count": null,
   "metadata": {
    "collapsed": true
   },
   "outputs": [],
   "source": [
    "#Done"
   ]
  }
 ],
 "metadata": {
  "kernelspec": {
   "display_name": "Python 3",
   "language": "python",
   "name": "python3"
  },
  "language_info": {
   "codemirror_mode": {
    "name": "ipython",
    "version": 3
   },
   "file_extension": ".py",
   "mimetype": "text/x-python",
   "name": "python",
   "nbconvert_exporter": "python",
   "pygments_lexer": "ipython3",
   "version": "3.6.1"
  }
 },
 "nbformat": 4,
 "nbformat_minor": 2
}
